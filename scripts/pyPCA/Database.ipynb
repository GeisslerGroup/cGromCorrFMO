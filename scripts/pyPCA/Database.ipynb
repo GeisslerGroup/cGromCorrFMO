{
 "metadata": {
  "name": "Database"
 },
 "nbformat": 3,
 "nbformat_minor": 0,
 "worksheets": [
  {
   "cells": [
    {
     "cell_type": "code",
     "collapsed": false,
     "input": [
      "import dbwrap\n",
      "\n",
      "dbwrap.db_path = \"/home/jhaberstroh/Code/photosynth/NMA_fmo/cGromCorrFMO/data/fmodata.db\"\n",
      "dbwrap.table_name = \"modetest3\"\n",
      "\n",
      "dbwrap.PrintCols()\n",
      "dbwrap.AddData_Multi?"
     ],
     "language": "python",
     "metadata": {},
     "outputs": [
      {
       "output_type": "stream",
       "stream": "stdout",
       "text": [
        "PrintDBCols():\n",
        "NOTE: Call GetCols to get the raw data.\n",
        "The first number on each line is the index number for that column.\n",
        "\n",
        ".........Required Arguments:\n",
        "0 id INTEGER; DEFAULT = None\n",
        "1 site INTEGER; DEFAULT = None\n",
        "2 sampleid INTEGER; DEFAULT = None\n",
        "3 modenum INTEGER; DEFAULT = None\n",
        "4 time REAL; DEFAULT = None\n",
        "5 gap REAL; DEFAULT = None\n",
        "\n",
        ".........Optional Arguments:\n"
       ]
      }
     ],
     "prompt_number": 16
    },
    {
     "cell_type": "code",
     "collapsed": false,
     "input": [
      "import ConfigParser\n",
      "import cPickle\n",
      "import numpy as np\n",
      "\n",
      "config = ConfigParser.RawConfigParser()\n",
      "config.read('./.postProcess.cfg')\n",
      "filename = config.get('sidechain','pkl_file')\n",
      "\n",
      "modes_pkl = config.get('modes','modes_pkl')\n",
      "                                                             \n",
      "plot_mode = config.get('plotter','plot_mode')\n",
      "plot_type = config.getint('plotter','plot_type')\n",
      "num_modes = config.getint('plotter','num_modes')\n",
      "site_num = config.getint('plotter','site_num') - 1\n",
      "mode1 = config.getint('plotter','scatter_1') - 1\n",
      "mode2 = config.getint('plotter','scatter_2') - 1\n",
      "                                                             \n",
      "save_plot = config.getboolean('plotter','save_to_disc')\n",
      "                                                             \n",
      "print \"Loading modes from modes_pkl =\", modes_pkl+\"...\"\n",
      "dEmodes_i_tn, dEtot_t_i = cPickle.load(open(modes_pkl, 'r'))\n",
      "dEmodes_i_tn = np.array(dEmodes_i_tn);\n",
      "dEtot_t_i = np.array(dEtot_t_i);\n",
      "\n"
     ],
     "language": "python",
     "metadata": {},
     "outputs": [
      {
       "output_type": "stream",
       "stream": "stdout",
       "text": [
        "Loading modes from modes_pkl = ./.pkls/Tracker_t10k_all7.pkl...\n"
       ]
      }
     ],
     "prompt_number": 19
    },
    {
     "cell_type": "code",
     "collapsed": false,
     "input": [
      "kwarg_list = []\n",
      "for i in xrange(7):\n",
      "    for t in xrange(10000):\n",
      "        for n in xrange(300):\n",
      "            value = { 'site':(i+1), 'time':(t*.2), 'modenum':n, 'sampleid':1, 'gap':dEmodes_i_tn[i][t][n] }\n",
      "            kwarg_list.append(value)\n",
      "dbwrap.AddData_Multi(kwarg_list)\n",
      "\n",
      "\n"
     ],
     "language": "python",
     "metadata": {},
     "outputs": [
      {
       "output_type": "pyout",
       "prompt_number": 17,
       "text": [
        "['INSERT INTO modetest3(sampleid, gap, modenum, site, time) VALUES (?,?,?,?,?);',\n",
        " [1, -3.7501262598591857e-06, 299, 7, 1999.8000000000002]]"
       ]
      }
     ],
     "prompt_number": 17
    },
    {
     "cell_type": "code",
     "collapsed": false,
     "input": [
      "import sqlite3\n",
      "con = sqlite3.connect(\"../data/fmodata.db\")\n",
      "cur = con.cursor()"
     ],
     "language": "python",
     "metadata": {},
     "outputs": [],
     "prompt_number": 1
    },
    {
     "cell_type": "code",
     "collapsed": false,
     "input": [
      "cur.execute('SELECT time, gap FROM modetest3 WHERE site = 1 AND modenum = 298')\n",
      "counter = 0\n",
      "record = cur.fetchall()\n",
      "#while record and counter < 100:\n",
      "#    print record\n",
      "#    record = cur.fetchone()\n",
      "#    counter += 1\n",
      "import matplotlib.pylab as plt\n",
      "plt.plot(record)"
     ],
     "language": "python",
     "metadata": {},
     "outputs": [
      {
       "output_type": "pyout",
       "prompt_number": 18,
       "text": [
        "[<matplotlib.lines.Line2D at 0x46be8d0>,\n",
        " <matplotlib.lines.Line2D at 0x46bea50>]"
       ]
      }
     ],
     "prompt_number": 18
    },
    {
     "cell_type": "code",
     "collapsed": false,
     "input": [
      "import h5py\n",
      "\n",
      "f = h5py.File(\"../data/h5timeseries.hdf5\",'w')\n",
      "dset = f.create_dataset(\"timeseres\", dEmodes_i_tn.shape, dtype='f')"
     ],
     "language": "python",
     "metadata": {},
     "outputs": [],
     "prompt_number": 21
    },
    {
     "cell_type": "code",
     "collapsed": false,
     "input": [
      "dset[...] = dEmodes_i_tn"
     ],
     "language": "python",
     "metadata": {},
     "outputs": [],
     "prompt_number": 22
    },
    {
     "cell_type": "code",
     "collapsed": false,
     "input": [
      "x1 = dset[1,:,-1]\n",
      "print x1\n",
      "f.close()"
     ],
     "language": "python",
     "metadata": {},
     "outputs": [
      {
       "output_type": "stream",
       "stream": "stdout",
       "text": [
        "[  3.64314154e-04  -7.47971062e-05   6.05366309e-04 ...,  -3.50054586e-04\n",
        "  -5.19987487e-04  -7.06257124e-04]\n"
       ]
      }
     ],
     "prompt_number": 33
    },
    {
     "cell_type": "code",
     "collapsed": false,
     "input": [
      "q = h5py.File(\"../data/h5timeseries.hdf5\",'r')\n",
      "dset = q.require_dataset(\"timeseres\", dEmodes_i_tn.shape, dtype='f')\n",
      "x1 = dset[1,:,-1]\n",
      "print x1\n",
      "q.close()"
     ],
     "language": "python",
     "metadata": {},
     "outputs": [
      {
       "output_type": "stream",
       "stream": "stdout",
       "text": [
        "[  3.64314154e-04  -7.47971062e-05   6.05366309e-04 ...,  -3.50054586e-04\n",
        "  -5.19987487e-04  -7.06257124e-04]\n"
       ]
      }
     ],
     "prompt_number": 47
    },
    {
     "cell_type": "code",
     "collapsed": false,
     "input": [],
     "language": "python",
     "metadata": {},
     "outputs": []
    }
   ],
   "metadata": {}
  }
 ]
}