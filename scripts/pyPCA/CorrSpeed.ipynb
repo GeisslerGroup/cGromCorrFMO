{
 "metadata": {
  "name": "CorrSpeed"
 },
 "nbformat": 3,
 "nbformat_minor": 0,
 "worksheets": [
  {
   "cells": [
    {
     "cell_type": "code",
     "collapsed": false,
     "input": [
      "import numpy as np\n",
      "import csv\n",
      "import cPickle\n",
      "import h5py\n",
      "import matplotlib.pylab as plt\n",
      "import ConfigParser\n",
      "from SidechainCorr import SidechainRead\n",
      "from copy import deepcopy\n",
      "\n",
      "\n",
      "config = ConfigParser.RawConfigParser()\n",
      "config.read('./.postProcess.cfg')\n",
      "csv_filename = config.get('sidechain','csv_file')\n",
      "pkl_filename = config.get('sidechain','pkl_file')\n",
      "h5_filename = config.get('sidechain','h5_file')\n",
      "h5_tag = config.get('sidechain','h5_tag')\n",
      "\n",
      "\n",
      "x, times_read = SidechainRead(csv_filename, 10000)"
     ],
     "language": "python",
     "metadata": {},
     "outputs": [
      {
       "ename": "ValueError",
       "evalue": "sequence too large; must be smaller than 32",
       "output_type": "pyerr",
       "traceback": [
        "\u001b[1;31m---------------------------------------------------------------------------\u001b[0m\n\u001b[1;31mValueError\u001b[0m                                Traceback (most recent call last)",
        "\u001b[1;32m<ipython-input-3-016caf6b8446>\u001b[0m in \u001b[0;36m<module>\u001b[1;34m()\u001b[0m\n\u001b[0;32m     18\u001b[0m \u001b[1;33m\u001b[0m\u001b[0m\n\u001b[0;32m     19\u001b[0m \u001b[0mx\u001b[0m\u001b[1;33m,\u001b[0m \u001b[0mtimes_read\u001b[0m \u001b[1;33m=\u001b[0m \u001b[0mSidechainRead\u001b[0m\u001b[1;33m(\u001b[0m\u001b[0mcsv_filename\u001b[0m\u001b[1;33m,\u001b[0m \u001b[1;36m10000\u001b[0m\u001b[1;33m)\u001b[0m\u001b[1;33m\u001b[0m\u001b[0m\n\u001b[1;32m---> 20\u001b[1;33m \u001b[0mx\u001b[0m \u001b[1;33m=\u001b[0m \u001b[0mnp\u001b[0m\u001b[1;33m.\u001b[0m\u001b[0mndarray\u001b[0m\u001b[1;33m(\u001b[0m\u001b[0mx\u001b[0m\u001b[1;33m)\u001b[0m\u001b[1;33m\u001b[0m\u001b[0m\n\u001b[0m",
        "\u001b[1;31mValueError\u001b[0m: sequence too large; must be smaller than 32"
       ]
      }
     ],
     "prompt_number": 3
    },
    {
     "cell_type": "code",
     "collapsed": false,
     "input": [
      "import timeit\n",
      "\n",
      "print x.shape\n",
      "dE = x.sum(axis=0)\n",
      "print dE .shape\n",
      "%time avgFix = np.einsum('...j,...k',dE,dE)\n",
      "%time avgFix2 = np.array( [ np.outer(dE[i,:], dE[i,:]) for i in xrange(dE.shape[0]) ] )\n",
      "\n",
      "print avgFix.shape\n",
      "print avgFix2.shape\n",
      "print np.array_equal(avgFix, avgFix2)\n",
      "\n",
      "#%time deab = np.array([np.tensordot(x[0:10000,i,:],x[0:10000,i,:], axes=(0,0)) for i in xrange(x.shape[1])])\n",
      "\n",
      "\n",
      "\n",
      "#corr = deab - np.einsum('...j,...k',dE,dE)\n",
      "#print corr.shape\n",
      "#%time deab = np.einsum(\"t...a,t...b\", x[0:1000,:,:],x[0:1000,:,:])"
     ],
     "language": "python",
     "metadata": {},
     "outputs": [
      {
       "output_type": "stream",
       "stream": "stdout",
       "text": [
        "(10000, 7, 360)\n",
        "(7, 360)"
       ]
      },
      {
       "output_type": "stream",
       "stream": "stdout",
       "text": [
        "\n",
        "CPU times: user 0.00 s, sys: 0.00 s, total: 0.00 s\n",
        "Wall time: 0.00 s\n",
        "CPU times: user 0.12 s, sys: 0.00 s, total: 0.12 s"
       ]
      },
      {
       "output_type": "stream",
       "stream": "stdout",
       "text": [
        "\n",
        "Wall time: 0.12 s\n",
        "(7, 360, 360)\n",
        "(7, 360, 360)\n",
        "True\n"
       ]
      }
     ],
     "prompt_number": 46
    },
    {
     "cell_type": "code",
     "collapsed": false,
     "input": [],
     "language": "python",
     "metadata": {},
     "outputs": []
    }
   ],
   "metadata": {}
  }
 ]
}